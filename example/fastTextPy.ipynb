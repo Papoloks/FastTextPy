{
 "cells": [
  {
   "cell_type": "markdown",
   "metadata": {
    "ExecuteTime": {
     "end_time": "2016-08-30T02:39:48.112174",
     "start_time": "2016-08-30T02:39:48.103991"
    }
   },
   "source": [
    "# FastTextPy Usage\n",
    "\n",
    "## Word Representations"
   ]
  },
  {
   "cell_type": "markdown",
   "metadata": {},
   "source": [
    "Train a skip-gram model:"
   ]
  },
  {
   "cell_type": "code",
   "execution_count": 1,
   "metadata": {
    "ExecuteTime": {
     "end_time": "2016-08-30T05:28:03.821716",
     "start_time": "2016-08-30T05:28:03.697675"
    },
    "collapsed": true
   },
   "outputs": [],
   "source": [
    "from fastTextPy import FastText"
   ]
  },
  {
   "cell_type": "markdown",
   "metadata": {},
   "source": [
    "the data text8 can be downloaded from [ http://mattmahoney.net/dc/text8.zip](http://mattmahoney.net/dc/text8.zip)"
   ]
  },
  {
   "cell_type": "code",
   "execution_count": 2,
   "metadata": {
    "ExecuteTime": {
     "end_time": "2016-08-30T05:33:06.015438",
     "start_time": "2016-08-30T05:28:03.823616"
    },
    "collapsed": true
   },
   "outputs": [],
   "source": [
    "model = 'skipgram' # use 'cbow' for CBOW \n",
    "sg = FastText().train(\"text8.txt\",model=model,lr=0.025,dim=100)"
   ]
  },
  {
   "cell_type": "markdown",
   "metadata": {},
   "source": [
    "It takes about 3 minutes to train the model on my machine"
   ]
  },
  {
   "cell_type": "markdown",
   "metadata": {},
   "source": [
    "## Word Similarity \n",
    "\n",
    "now that the model is ready, we can test it with word similarity:"
   ]
  },
  {
   "cell_type": "code",
   "execution_count": 3,
   "metadata": {
    "ExecuteTime": {
     "end_time": "2016-08-30T05:33:06.028093",
     "start_time": "2016-08-30T05:33:06.019254"
    },
    "collapsed": false
   },
   "outputs": [
    {
     "name": "stdout",
     "output_type": "stream",
     "text": [
      "0.688960558038\n",
      "0.732212970772\n"
     ]
    }
   ],
   "source": [
    "print(sg.similarity('apple','mac'))\n",
    "print(sg.similarity('dog','cat'))"
   ]
  },
  {
   "cell_type": "markdown",
   "metadata": {
    "ExecuteTime": {
     "end_time": "2016-08-30T02:58:15.379252",
     "start_time": "2016-08-30T02:58:15.374639"
    }
   },
   "source": [
    "you can also inspect a single word:"
   ]
  },
  {
   "cell_type": "code",
   "execution_count": 4,
   "metadata": {
    "ExecuteTime": {
     "end_time": "2016-08-30T05:33:06.046319",
     "start_time": "2016-08-30T05:33:06.029702"
    },
    "collapsed": false
   },
   "outputs": [
    {
     "data": {
      "text/plain": [
       "(100,)"
      ]
     },
     "execution_count": 4,
     "metadata": {},
     "output_type": "execute_result"
    }
   ],
   "source": [
    "sg['cat'].shape"
   ]
  },
  {
   "cell_type": "code",
   "execution_count": 5,
   "metadata": {
    "ExecuteTime": {
     "end_time": "2016-08-30T05:33:06.053131",
     "start_time": "2016-08-30T05:33:06.047876"
    },
    "collapsed": false
   },
   "outputs": [
    {
     "data": {
      "text/plain": [
       "array([ 0.26467094,  0.05061885,  0.16552883,  0.07861796, -0.58607894,\n",
       "        0.19022098, -0.02961079,  0.21464205, -0.04263076,  0.29155275], dtype=float32)"
      ]
     },
     "execution_count": 5,
     "metadata": {},
     "output_type": "execute_result"
    }
   ],
   "source": [
    "sg['cat'][:10]"
   ]
  },
  {
   "cell_type": "markdown",
   "metadata": {},
   "source": [
    "Note that we are generating the word representations by computing the average of n-gram vectors on the fly(see [1](#enriching-word-vectors-with-subword-information) for detail). To generate all word embeddings in the vocabulary ,you can use `transform` method"
   ]
  },
  {
   "cell_type": "code",
   "execution_count": 6,
   "metadata": {
    "ExecuteTime": {
     "end_time": "2016-08-30T05:33:11.421899",
     "start_time": "2016-08-30T05:33:06.055022"
    },
    "collapsed": true
   },
   "outputs": [],
   "source": [
    "sg.transform()"
   ]
  },
  {
   "cell_type": "markdown",
   "metadata": {},
   "source": [
    "now all word embeddings reside in `sg.word_emb` , `sg.vocab` is a dictionary mapping from word to it's index in `sg.word_emb`"
   ]
  },
  {
   "cell_type": "markdown",
   "metadata": {},
   "source": [
    "now we can see the most similary words for a given word, say 'apple':"
   ]
  },
  {
   "cell_type": "code",
   "execution_count": 7,
   "metadata": {
    "ExecuteTime": {
     "end_time": "2016-08-30T05:33:11.559192",
     "start_time": "2016-08-30T05:33:11.423969"
    },
    "collapsed": false,
    "scrolled": true
   },
   "outputs": [
    {
     "data": {
      "text/plain": [
       "([u'macintosh', u'macintoshes', u'amiga', u'workstation', u'pc'],\n",
       " [0.88937724, 0.8704108, 0.80300415, 0.78809255, 0.78022552])"
      ]
     },
     "execution_count": 7,
     "metadata": {},
     "output_type": "execute_result"
    }
   ],
   "source": [
    "sg.most_similar(u'apple',topn=5)"
   ]
  },
  {
   "cell_type": "markdown",
   "metadata": {
    "ExecuteTime": {
     "end_time": "2016-08-30T03:09:21.934562",
     "start_time": "2016-08-30T03:09:21.928197"
    }
   },
   "source": [
    "It returns words and their consine similaries with \"apple\""
   ]
  },
  {
   "cell_type": "markdown",
   "metadata": {},
   "source": [
    "To save the model for later use:"
   ]
  },
  {
   "cell_type": "code",
   "execution_count": 8,
   "metadata": {
    "ExecuteTime": {
     "end_time": "2016-08-30T05:33:12.942190",
     "start_time": "2016-08-30T05:33:11.562246"
    },
    "collapsed": true
   },
   "outputs": [],
   "source": [
    "sg.save('text8.bin')"
   ]
  },
  {
   "cell_type": "markdown",
   "metadata": {},
   "source": [
    "## Text Classification[2](#bag-of-tricks-for-efficient-text-classification) "
   ]
  },
  {
   "cell_type": "markdown",
   "metadata": {},
   "source": [
    "using dbpedia data to train the model, here is a sample data:\n",
    "\n",
    "`` __label__14 , the yorkshire times , the yorkshire times is an online newspaper founded in 2011 by richard trinder and the sole online-only paper in yorkshire. rather than employing journalists the yorkshire times focuses instead on citizen journalism with opinion commentary and analysis prevailing over simply reporting local events . as of 1 january 2014 the newspaper receives 35000 unique readers and 500000 reads per month .``"
   ]
  },
  {
   "cell_type": "code",
   "execution_count": 9,
   "metadata": {
    "ExecuteTime": {
     "end_time": "2016-08-30T05:33:44.806615",
     "start_time": "2016-08-30T05:33:12.943918"
    },
    "collapsed": true
   },
   "outputs": [],
   "source": [
    "sup = FastText().train(\"dbpedia.train\",dim=10,model='supervised',\n",
    "                      lr=0.1,word_ngrams=2,min_count=1,bucket=10000000,\n",
    "                      epoch=5,thread=4)"
   ]
  },
  {
   "cell_type": "markdown",
   "metadata": {},
   "source": [
    "train took about **10** seconds"
   ]
  },
  {
   "cell_type": "markdown",
   "metadata": {},
   "source": [
    "before going further, let's have a look at the labels:"
   ]
  },
  {
   "cell_type": "code",
   "execution_count": 10,
   "metadata": {
    "ExecuteTime": {
     "end_time": "2016-08-30T05:33:44.813017",
     "start_time": "2016-08-30T05:33:44.808867"
    },
    "collapsed": false
   },
   "outputs": [
    {
     "name": "stdout",
     "output_type": "stream",
     "text": [
      "{0: u'__label__2', 1: u'__label__12', 2: u'__label__4', 3: u'__label__8', 4: u'__label__14', 5: u'__label__1', 6: u'__label__9', 7: u'__label__3', 8: u'__label__13', 9: u'__label__11', 10: u'__label__10', 11: u'__label__7', 12: u'__label__6', 13: u'__label__5'}\n"
     ]
    }
   ],
   "source": [
    "print(sup.labels)"
   ]
  },
  {
   "cell_type": "markdown",
   "metadata": {},
   "source": [
    "Let's see what these label means:"
   ]
  },
  {
   "cell_type": "code",
   "execution_count": 11,
   "metadata": {
    "ExecuteTime": {
     "end_time": "2016-08-30T05:33:44.821172",
     "start_time": "2016-08-30T05:33:44.814652"
    },
    "collapsed": true
   },
   "outputs": [],
   "source": [
    "classes={\n",
    "  1 : \"Company\",\n",
    "  2 :\"EducationalInstitution\",\n",
    "  3 :\"Artist\",\n",
    "  4 :\"Athlete\",\n",
    "  5 :\"OfficeHolder\",\n",
    "  6 :\"MeanOfTransportation\",\n",
    "  7 :\"Building\",\n",
    "  8 :\"NaturalPlace\",\n",
    "  9 :\"Village\",\n",
    " 10 :\"Animal\",\n",
    " 11 :\"Plant\",\n",
    " 12 :\"Album\",\n",
    " 13 :\"Film\",\n",
    " 14 :\"WrittenWork\"\n",
    "}"
   ]
  },
  {
   "cell_type": "code",
   "execution_count": 12,
   "metadata": {
    "ExecuteTime": {
     "end_time": "2016-08-30T05:33:44.825648",
     "start_time": "2016-08-30T05:33:44.822735"
    },
    "collapsed": false
   },
   "outputs": [],
   "source": [
    "classes = {u'__label__'+str(k):v for k,v in classes.items()}"
   ]
  },
  {
   "cell_type": "code",
   "execution_count": 13,
   "metadata": {
    "ExecuteTime": {
     "end_time": "2016-08-30T05:33:44.833479",
     "start_time": "2016-08-30T05:33:44.827334"
    },
    "collapsed": false
   },
   "outputs": [
    {
     "data": {
      "text/plain": [
       "{u'__label__1': 'Company',\n",
       " u'__label__10': 'Animal',\n",
       " u'__label__11': 'Plant',\n",
       " u'__label__12': 'Album',\n",
       " u'__label__13': 'Film',\n",
       " u'__label__14': 'WrittenWork',\n",
       " u'__label__2': 'EducationalInstitution',\n",
       " u'__label__3': 'Artist',\n",
       " u'__label__4': 'Athlete',\n",
       " u'__label__5': 'OfficeHolder',\n",
       " u'__label__6': 'MeanOfTransportation',\n",
       " u'__label__7': 'Building',\n",
       " u'__label__8': 'NaturalPlace',\n",
       " u'__label__9': 'Village'}"
      ]
     },
     "execution_count": 13,
     "metadata": {},
     "output_type": "execute_result"
    }
   ],
   "source": [
    "classes"
   ]
  },
  {
   "cell_type": "markdown",
   "metadata": {},
   "source": [
    "now given line of texts, we can predict the theme of that line"
   ]
  },
  {
   "cell_type": "code",
   "execution_count": 14,
   "metadata": {
    "ExecuteTime": {
     "end_time": "2016-08-30T05:33:44.838124",
     "start_time": "2016-08-30T05:33:44.835336"
    },
    "collapsed": false
   },
   "outputs": [],
   "source": [
    "lines=\"\"\"the world is not enough , the world is not enough ( 1999 ) is the nineteenth spy film\n",
    "in the james bond series and the third to star pierce brosnan as the fictional mi6 agent \n",
    "james bond . the film was directed by michael apted with the original story and screenplay \n",
    "written by neal purvis robert wade and bruce feirstein . \n",
    "it was produced by michael g . wilson and barbara broccoli .\"\"\""
   ]
  },
  {
   "cell_type": "markdown",
   "metadata": {},
   "source": [
    "the above text is a introduction to some film, lt's see can the model predict the right class:"
   ]
  },
  {
   "cell_type": "code",
   "execution_count": 15,
   "metadata": {
    "ExecuteTime": {
     "end_time": "2016-08-30T05:33:44.847614",
     "start_time": "2016-08-30T05:33:44.839714"
    },
    "collapsed": false
   },
   "outputs": [
    {
     "data": {
      "text/plain": [
       "[u'__label__13']"
      ]
     },
     "execution_count": 15,
     "metadata": {},
     "output_type": "execute_result"
    }
   ],
   "source": [
    "sup.predict(lines)"
   ]
  },
  {
   "cell_type": "code",
   "execution_count": 16,
   "metadata": {
    "ExecuteTime": {
     "end_time": "2016-08-30T05:33:44.853046",
     "start_time": "2016-08-30T05:33:44.849344"
    },
    "collapsed": false
   },
   "outputs": [
    {
     "data": {
      "text/plain": [
       "'Film'"
      ]
     },
     "execution_count": 16,
     "metadata": {},
     "output_type": "execute_result"
    }
   ],
   "source": [
    "classes[u'__label__13']"
   ]
  },
  {
   "cell_type": "markdown",
   "metadata": {},
   "source": [
    "try another sentence:"
   ]
  },
  {
   "cell_type": "code",
   "execution_count": 17,
   "metadata": {
    "ExecuteTime": {
     "end_time": "2016-08-30T05:33:44.862804",
     "start_time": "2016-08-30T05:33:44.854891"
    },
    "collapsed": false
   },
   "outputs": [
    {
     "data": {
      "text/plain": [
       "[u'__label__12']"
      ]
     },
     "execution_count": 17,
     "metadata": {},
     "output_type": "execute_result"
    }
   ],
   "source": [
    "sup.predict('I love this song')"
   ]
  },
  {
   "cell_type": "code",
   "execution_count": 18,
   "metadata": {
    "ExecuteTime": {
     "end_time": "2016-08-30T05:33:44.868237",
     "start_time": "2016-08-30T05:33:44.864654"
    },
    "collapsed": false
   },
   "outputs": [
    {
     "data": {
      "text/plain": [
       "'Album'"
      ]
     },
     "execution_count": 18,
     "metadata": {},
     "output_type": "execute_result"
    }
   ],
   "source": [
    "classes[u'__label__12']"
   ]
  },
  {
   "cell_type": "markdown",
   "metadata": {},
   "source": [
    "### Enriching Word Vectors with Subword Information\n",
    "\n",
    "[1] P. Bojanowski\\*, E. Grave\\*, A. Joulin, T. Mikolov, [*Enriching Word Vectors with Subword Information*](https://arxiv.org/pdf/1607.04606v1.pdf)\n",
    "\n",
    "```\n",
    "@article{bojanowski2016enriching,\n",
    "  title={Enriching Word Vectors with Subword Information},\n",
    "  author={Bojanowski, Piotr and Grave, Edouard and Joulin, Armand and Mikolov, Tomas},\n",
    "  journal={arXiv preprint arXiv:1607.04606},\n",
    "  year={2016}\n",
    "}\n",
    "```"
   ]
  },
  {
   "cell_type": "markdown",
   "metadata": {},
   "source": [
    "### Bag of Tricks for Efficient Text Classification\n",
    "\n",
    "[2] A. Joulin, E. Grave, P. Bojanowski, T. Mikolov, [*Bag of Tricks for Efficient Text Classification*](https://arxiv.org/pdf/1607.01759v2.pdf)\n",
    "\n",
    "```\n",
    "@article{joulin2016bag,\n",
    "  title={Bag of Tricks for Efficient Text Classification},\n",
    "  author={Joulin, Armand and Grave, Edouard and Bojanowski, Piotr and Mikolov, Tomas},\n",
    "  journal={arXiv preprint arXiv:1607.01759},\n",
    "  year={2016}\n",
    "}\n",
    "```\n"
   ]
  },
  {
   "cell_type": "code",
   "execution_count": null,
   "metadata": {
    "collapsed": true
   },
   "outputs": [],
   "source": []
  }
 ],
 "metadata": {
  "kernelspec": {
   "display_name": "Python 2",
   "language": "python",
   "name": "python2"
  },
  "language_info": {
   "codemirror_mode": {
    "name": "ipython",
    "version": 2
   },
   "file_extension": ".py",
   "mimetype": "text/x-python",
   "name": "python",
   "nbconvert_exporter": "python",
   "pygments_lexer": "ipython2",
   "version": "2.7.12"
  }
 },
 "nbformat": 4,
 "nbformat_minor": 0
}
